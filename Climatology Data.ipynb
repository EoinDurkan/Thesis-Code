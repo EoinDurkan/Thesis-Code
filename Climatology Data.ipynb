{
 "cells": [
  {
   "cell_type": "code",
   "execution_count": 33,
   "id": "ae80f866",
   "metadata": {},
   "outputs": [],
   "source": [
    "import numpy as np\n",
    "import pandas as pd\n",
    "import matplotlib.pyplot as plt"
   ]
  },
  {
   "cell_type": "markdown",
   "id": "7cfe82ef",
   "metadata": {},
   "source": [
    "Read in historical observations for max temp and min temp for Dublin Airport, Cork Airport, Belmullet, Valentia Observatory, Malin Head and Mullingar."
   ]
  },
  {
   "cell_type": "code",
   "execution_count": 34,
   "id": "3269e233",
   "metadata": {},
   "outputs": [],
   "source": [
    "file_paths = ['../Data/MetEireann/dly532.csv', '../Data/MetEireann/dly3904.csv', '../Data/MetEireann/dly2375.csv',\n",
    "              '../Data/MetEireann/dly2275.csv', '../Data/MetEireann/dly1575.csv', '../Data/MetEireann/dly875.csv']\n",
    "\n",
    "col_names = [\"Date\", \"Mxt2m\", \"Mnt2m\"]\n",
    "\n",
    "data = [pd.read_csv(fp, skiprows=26, usecols=[0,2,4], names=col_names, parse_dates=True, index_col=0, na_values=' ')\n",
    "       for fp in file_paths]"
   ]
  },
  {
   "cell_type": "markdown",
   "id": "a916f6e3",
   "metadata": {},
   "source": [
    "Slice the data and extract the period 1981-2010, as this will be the 30 year period determining climatological predictions."
   ]
  },
  {
   "cell_type": "code",
   "execution_count": 35,
   "id": "02b07621",
   "metadata": {},
   "outputs": [],
   "source": [
    "CLM_data = {'DUB': data[0]['1981':'2010'], 'CORK': data[1]['1981':'2010'], 'BEL': data[2]['1981':'2010'],\n",
    "            'VAL': data[3]['1981':'2010'], 'MAL': data[4]['1981':'2010'], 'MUL': data[5]['1981':'2010']}"
   ]
  },
  {
   "cell_type": "markdown",
   "id": "96e1a959",
   "metadata": {},
   "source": [
    "Create a 6x12 list ``CLM_t2m``, which is composed of 12 values for 6 locations, the average temperature for each month over the period 1981-2010.\n",
    "\n",
    "This is obtained by obtaining the average maximum temperature and average minimum temperature for each month and averaging those two values.\n",
    "\n",
    "The ``.groupby()`` function in pandas allows the mean monthly figures to be calculated. Looping through each ``key in CLM`` gives a 6x12 array, where the 6 rows represents DUB, CORK, BEL, VAL, MAL & MUL *in that order*"
   ]
  },
  {
   "cell_type": "code",
   "execution_count": 44,
   "id": "724e570c",
   "metadata": {},
   "outputs": [
    {
     "name": "stdout",
     "output_type": "stream",
     "text": [
      "Stored 'CLM_t2m' (ndarray)\n"
     ]
    }
   ],
   "source": [
    "CLM_t2m = []\n",
    "\n",
    "for key in CLM_data:\n",
    "    Mxt2m_monthly = CLM_data[key].Mxt2m.groupby(CLM_data[key].index.month).mean()\n",
    "    Mnt2m_monthly = CLM_data[key].Mnt2m.groupby(CLM_data[key].index.month).mean()\n",
    "    CLM_t2m.append((Mxt2m_monthly.values+Mnt2m_monthly.values)/2)\n",
    "    \n",
    "CLM_t2m = np.tile(CLM_t2m, (1,6))\n",
    "\n",
    "%store CLM_t2m"
   ]
  },
  {
   "cell_type": "markdown",
   "id": "6644e277",
   "metadata": {},
   "source": [
    "Repeating the same process, except this time instead of finding the mean, we find the boundary of the lower tercile and upper tercile for each location. This will be required for computing the Relative Operating Charcteristic (ROC) and Brier Score later.\n",
    "\n",
    "Finally, storing these arrays using ``%store`` for computing skill scores in different notebooks."
   ]
  },
  {
   "cell_type": "code",
   "execution_count": 53,
   "id": "001e803d",
   "metadata": {},
   "outputs": [
    {
     "name": "stdout",
     "output_type": "stream",
     "text": [
      "Stored 'CLM_t2m_lowertercile' (ndarray)\n"
     ]
    }
   ],
   "source": [
    "CLM_t2m_lowertercile = []\n",
    "\n",
    "for key in CLM_data:\n",
    "    Mxt2m_monthly = CLM_data[key].Mxt2m.groupby(CLM_data[key].index.month).quantile(0.33)\n",
    "    Mnt2m_monthly = CLM_data[key].Mnt2m.groupby(CLM_data[key].index.month).quantile(0.33)\n",
    "    CLM_t2m_lowertercile.append((Mxt2m_monthly.values+Mnt2m_monthly.values)/2)\n",
    "    \n",
    "CLM_t2m_lowertercile = np.tile(CLM_t2m_lowertercile, (1,6))\n",
    "\n",
    "%store CLM_t2m_lowertercile"
   ]
  },
  {
   "cell_type": "code",
   "execution_count": 54,
   "id": "bae062a2",
   "metadata": {},
   "outputs": [
    {
     "name": "stdout",
     "output_type": "stream",
     "text": [
      "Stored 'CLM_t2m_uppertercile' (ndarray)\n"
     ]
    }
   ],
   "source": [
    "CLM_t2m_uppertercile = []\n",
    "\n",
    "for key in CLM_data:\n",
    "    Mxt2m_monthly = CLM_data[key].Mxt2m.groupby(CLM_data[key].index.month).quantile(0.67)\n",
    "    Mnt2m_monthly = CLM_data[key].Mnt2m.groupby(CLM_data[key].index.month).quantile(0.67)\n",
    "    CLM_t2m_uppertercile.append((Mxt2m_monthly.values+Mnt2m_monthly.values)/2)\n",
    "    \n",
    "CLM_t2m_uppertercile = np.tile(CLM_t2m_uppertercile, (1,6))\n",
    "\n",
    "%store CLM_t2m_uppertercile"
   ]
  },
  {
   "cell_type": "code",
   "execution_count": null,
   "id": "32bcd732",
   "metadata": {},
   "outputs": [],
   "source": []
  }
 ],
 "metadata": {
  "kernelspec": {
   "display_name": "Python 3 (ipykernel)",
   "language": "python",
   "name": "python3"
  },
  "language_info": {
   "codemirror_mode": {
    "name": "ipython",
    "version": 3
   },
   "file_extension": ".py",
   "mimetype": "text/x-python",
   "name": "python",
   "nbconvert_exporter": "python",
   "pygments_lexer": "ipython3",
   "version": "3.9.13"
  }
 },
 "nbformat": 4,
 "nbformat_minor": 5
}
