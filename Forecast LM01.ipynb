{
 "cells": [
  {
   "cell_type": "code",
   "execution_count": 1,
   "id": "11e4baa0",
   "metadata": {},
   "outputs": [],
   "source": [
    "import numpy as np\n",
    "import xarray as xr"
   ]
  },
  {
   "cell_type": "markdown",
   "id": "485bc7af",
   "metadata": {},
   "source": [
    "Read in the one month lead time forecast data for all six locations."
   ]
  },
  {
   "cell_type": "code",
   "execution_count": 2,
   "id": "20a5ff15",
   "metadata": {},
   "outputs": [],
   "source": [
    "FCDAT = xr.open_dataset('C:/Users/durka/Downloads/Thesis_Data/type_fcmean_LM01.nc')"
   ]
  },
  {
   "cell_type": "markdown",
   "id": "d2d75651",
   "metadata": {},
   "source": [
    "Set the latitude and longitude coordinates of each location, and use ``.sel()`` to select the gridpoint nearest to each location."
   ]
  },
  {
   "cell_type": "code",
   "execution_count": 6,
   "id": "24cb58bd",
   "metadata": {},
   "outputs": [],
   "source": [
    "LATLON = np.array([[53.428, -6.241],[51.847, -8.486],[54.228, -10.007],[51.938, -10.241],[55.372, -7.339],[53.537, -7.362]])\n",
    "\n",
    "FC_LM01 = {0: FCDAT.t2m.sel(latitude=xr.DataArray([LATLON[0,0]], dims='lat'), \n",
    "                           longitude=xr.DataArray([LATLON[0,1]], dims='lon'),\n",
    "                           method='nearest'),\n",
    "          1: FCDAT.t2m.sel(latitude=xr.DataArray([LATLON[1,0]], dims='lat'), \n",
    "                           longitude=xr.DataArray([LATLON[1,1]], dims='lon'),\n",
    "                           method='nearest'),\n",
    "          2: FCDAT.t2m.sel(latitude=xr.DataArray([LATLON[2,0]], dims='lat'), \n",
    "                           longitude=xr.DataArray([LATLON[2,1]], dims='lon'),\n",
    "                           method='nearest'),\n",
    "          3: FCDAT.t2m.sel(latitude=xr.DataArray([LATLON[3,0]], dims='lat'), \n",
    "                           longitude=xr.DataArray([LATLON[3,1]], dims='lon'),\n",
    "                           method='nearest'),\n",
    "          4: FCDAT.t2m.sel(latitude=xr.DataArray([LATLON[4,0]], dims='lat'), \n",
    "                           longitude=xr.DataArray([LATLON[4,1]], dims='lon'),\n",
    "                           method='nearest'),\n",
    "          5: FCDAT.t2m.sel(latitude=xr.DataArray([LATLON[5,0]], dims='lat'), \n",
    "                           longitude=xr.DataArray([LATLON[5,1]], dims='lon'),\n",
    "                           method='nearest')}"
   ]
  },
  {
   "cell_type": "markdown",
   "id": "efba9f41",
   "metadata": {},
   "source": [
    "The task at hand now is to find the ensemble member which remains closest to the mean over the five year period.\n",
    "\n",
    "The first step in this is to obtain an array, ``devs``, which is a measure of how much each ensemble deviates from the mean at each time step. It's shape is 6x60x51, where each dimension represents 6 locations, 60 time steps and 51 ensemble members respectively."
   ]
  },
  {
   "cell_type": "code",
   "execution_count": 7,
   "id": "a7280591",
   "metadata": {},
   "outputs": [],
   "source": [
    "devs = np.zeros([6,60,51])\n",
    "\n",
    "for key in FC_LM01:\n",
    "    for t in range(60):\n",
    "        for num in range(51):\n",
    "            deviation = np.abs(FC_LM01[key][t,num] - FC_LM01[key].mean(dim='number')[t])\n",
    "            devs[key,t,num] = deviation.values"
   ]
  },
  {
   "cell_type": "markdown",
   "id": "b3f129c1",
   "metadata": {},
   "source": [
    "Next, we compute the L2 norms of each of the columns of ``devs``. This is stored in an array called ``col_norms``. Each column norm represents the average deviation of a particular ensemble throughout the entire five year period.\n",
    "\n",
    "The shape of ``col_norms`` is 6x51, where the dimension represents 6 locations and 51 column norms, one norm per ensemble member."
   ]
  },
  {
   "cell_type": "code",
   "execution_count": 8,
   "id": "41bc890c",
   "metadata": {},
   "outputs": [],
   "source": [
    "col_norms = np.zeros([6,51])\n",
    "\n",
    "for loc in range(6):\n",
    "    for num in range(51):\n",
    "            norms = np.linalg.norm(devs[loc,:,num])\n",
    "            col_norms[loc,num] = norms"
   ]
  },
  {
   "cell_type": "markdown",
   "id": "a876a71a",
   "metadata": {},
   "source": [
    "Finally, we create an array called ``nearest_ensemble``, which contains the ensemble member's number which deviates the least from the ensemble mean for each location.\n",
    "\n",
    "This is obtained using numpy's ``.argmin()`` function."
   ]
  },
  {
   "cell_type": "code",
   "execution_count": 10,
   "id": "1ad5bb3d",
   "metadata": {},
   "outputs": [],
   "source": [
    "nearest_ensemble = np.zeros([6])\n",
    "\n",
    "for loc in range(6):\n",
    "    nearest_ensemble[loc] = np.argmin(col_norms[loc,:])"
   ]
  },
  {
   "cell_type": "code",
   "execution_count": 11,
   "id": "babdf17c",
   "metadata": {},
   "outputs": [
    {
     "data": {
      "text/plain": [
       "array([40., 36., 36., 36., 37., 40.])"
      ]
     },
     "execution_count": 11,
     "metadata": {},
     "output_type": "execute_result"
    }
   ],
   "source": [
    "nearest_ensemble"
   ]
  },
  {
   "cell_type": "markdown",
   "id": "e5836728",
   "metadata": {},
   "source": [
    "The above output shows that:\n",
    "* The 41st ensemble member deviates the least from the mean for Dublin Airport\n",
    "* 37th member for Cork Airport\n",
    "* 37th member for Belmullet\n",
    "* 37th member for Valentia Observatory\n",
    "* 38th member for Malin Head\n",
    "* 41st member for Mullingar"
   ]
  },
  {
   "cell_type": "markdown",
   "id": "0f9978ee",
   "metadata": {},
   "source": [
    "We then create an array ``FC_LM01_data``, which consists of the predictions of the ensemble member that deviates the least from the mean for each of the six locations. Each value is converted from Kelvin to Celsius as the observational and climatological data is in Celsius.\n",
    "\n",
    "The data is stored using ``%store FC_LM01_data``."
   ]
  },
  {
   "cell_type": "code",
   "execution_count": 12,
   "id": "b1368efd",
   "metadata": {},
   "outputs": [
    {
     "name": "stdout",
     "output_type": "stream",
     "text": [
      "Stored 'FC_LM01_data' (ndarray)\n"
     ]
    }
   ],
   "source": [
    "FC_LM01_data = np.zeros([6,60])\n",
    "\n",
    "for i in range(6):\n",
    "    FC_LM01_data[i] = np.stack(FC_LM01[i][:,int(nearest_ensemble[i]),0,0]) - 273.15\n",
    "    \n",
    "%store FC_LM01_data"
   ]
  }
 ],
 "metadata": {
  "kernelspec": {
   "display_name": "Python 3 (ipykernel)",
   "language": "python",
   "name": "python3"
  },
  "language_info": {
   "codemirror_mode": {
    "name": "ipython",
    "version": 3
   },
   "file_extension": ".py",
   "mimetype": "text/x-python",
   "name": "python",
   "nbconvert_exporter": "python",
   "pygments_lexer": "ipython3",
   "version": "3.9.13"
  }
 },
 "nbformat": 4,
 "nbformat_minor": 5
}
