{
 "cells": [
  {
   "cell_type": "code",
   "execution_count": 2,
   "id": "994d5a40",
   "metadata": {},
   "outputs": [],
   "source": [
    "import numpy as np\n",
    "import xarray as xr"
   ]
  },
  {
   "cell_type": "markdown",
   "id": "c1498e2f",
   "metadata": {},
   "source": [
    "Read in the four month lead time forecast data for all six locations."
   ]
  },
  {
   "cell_type": "code",
   "execution_count": 3,
   "id": "dab60b34",
   "metadata": {},
   "outputs": [],
   "source": [
    "XRDAT = xr.open_dataset('C:/Users/durka/Downloads/Thesis_Data/type_fcmean_LM04.nc')"
   ]
  },
  {
   "cell_type": "markdown",
   "id": "9f968475",
   "metadata": {},
   "source": [
    "Set the latitude and longitude coordinates of each location, and use ``.sel()`` to select the gridpoint nearest to each location."
   ]
  },
  {
   "cell_type": "code",
   "execution_count": 4,
   "id": "e8203704",
   "metadata": {},
   "outputs": [],
   "source": [
    "LATLON = np.array([[53.428, -6.241],[51.847, -8.486],[54.228, -10.007],[51.938, -10.241],[55.372, -7.339],[53.537, -7.362]])\n",
    "\n",
    "FC_LM04 = {0: XRDAT.t2m.sel(latitude=xr.DataArray([LATLON[0,0]], dims='lat'), \n",
    "                           longitude=xr.DataArray([LATLON[0,1]], dims='lon'),\n",
    "                           method='nearest'),\n",
    "          1: XRDAT.t2m.sel(latitude=xr.DataArray([LATLON[1,0]], dims='lat'), \n",
    "                           longitude=xr.DataArray([LATLON[1,1]], dims='lon'),\n",
    "                           method='nearest'),\n",
    "          2: XRDAT.t2m.sel(latitude=xr.DataArray([LATLON[2,0]], dims='lat'), \n",
    "                           longitude=xr.DataArray([LATLON[2,1]], dims='lon'),\n",
    "                           method='nearest'),\n",
    "          3: XRDAT.t2m.sel(latitude=xr.DataArray([LATLON[3,0]], dims='lat'), \n",
    "                           longitude=xr.DataArray([LATLON[3,1]], dims='lon'),\n",
    "                           method='nearest'),\n",
    "          4: XRDAT.t2m.sel(latitude=xr.DataArray([LATLON[4,0]], dims='lat'), \n",
    "                           longitude=xr.DataArray([LATLON[4,1]], dims='lon'),\n",
    "                           method='nearest'),\n",
    "          5: XRDAT.t2m.sel(latitude=xr.DataArray([LATLON[5,0]], dims='lat'), \n",
    "                           longitude=xr.DataArray([LATLON[5,1]], dims='lon'),\n",
    "                           method='nearest')}"
   ]
  },
  {
   "cell_type": "markdown",
   "id": "c56af33f",
   "metadata": {},
   "source": [
    "The task at hand now is to find the ensemble member which remains closest to the mean over the five year period.\n",
    "\n",
    "The first step in this is to obtain an array, ``devs``, which is a measure of how much each ensemble deviates from the mean at each time step. It's shape is 6x60x51, where each dimension represents 6 locations, 60 time steps and 51 ensemble members respectively."
   ]
  },
  {
   "cell_type": "code",
   "execution_count": 5,
   "id": "9eb0ab14",
   "metadata": {},
   "outputs": [],
   "source": [
    "devs = np.zeros([6,60,51])\n",
    "\n",
    "for key in FC_LM04:\n",
    "    for t in range(60):\n",
    "        for num in range(51):\n",
    "            deviation = np.abs(FC_LM04[key][t,num] - FC_LM04[key].mean(dim='number')[t])\n",
    "            devs[key,t,num] = deviation.values"
   ]
  },
  {
   "cell_type": "markdown",
   "id": "d9502d26",
   "metadata": {},
   "source": [
    "Next, we compute the L2 norms of each of the columns of ``devs``. This is stored in an array called ``col_norms``. Each column norm represents the average deviation of a particular ensemble throughout the entire five year period.\n",
    "\n",
    "The shape of ``col_norms`` is 6x51, where the dimension represents 6 locations and 51 column norms, one norm per ensemble member."
   ]
  },
  {
   "cell_type": "code",
   "execution_count": 6,
   "id": "4a9bb499",
   "metadata": {},
   "outputs": [],
   "source": [
    "col_norms = np.zeros([6,51])\n",
    "\n",
    "for loc in range(6):\n",
    "    for num in range(51):\n",
    "            norms = np.linalg.norm(devs[loc,:,num])\n",
    "            col_norms[loc,num] = norms"
   ]
  },
  {
   "cell_type": "markdown",
   "id": "cb643183",
   "metadata": {},
   "source": [
    "Finally, we create an array called ``nearest_ensemble``, which contains the ensemble member's number which deviates the least from the ensemble mean for each location.\n",
    "\n",
    "This is obtained using numpy's ``.argmin()`` function."
   ]
  },
  {
   "cell_type": "code",
   "execution_count": 7,
   "id": "95578b32",
   "metadata": {},
   "outputs": [],
   "source": [
    "nearest_ensemble = np.zeros([6])\n",
    "\n",
    "for loc in range(6):\n",
    "    nearest_ensemble[loc] = np.argmin(col_norms[loc,:])"
   ]
  },
  {
   "cell_type": "code",
   "execution_count": 8,
   "id": "57d52b64",
   "metadata": {},
   "outputs": [
    {
     "data": {
      "text/plain": [
       "array([20., 35., 20., 41., 20., 20.])"
      ]
     },
     "execution_count": 8,
     "metadata": {},
     "output_type": "execute_result"
    }
   ],
   "source": [
    "nearest_ensemble"
   ]
  },
  {
   "cell_type": "markdown",
   "id": "bd050f93",
   "metadata": {},
   "source": [
    "The above output shows that:\n",
    "* The 21st ensemble member deviates the least from the mean for Dublin Airport\n",
    "* 36th member for Cork Airport\n",
    "* 21st member for Belmullet\n",
    "* 42nd member for Valentia Observatory\n",
    "* 21st member for Malin Head\n",
    "* 21st member for Mullingar"
   ]
  },
  {
   "cell_type": "markdown",
   "id": "26bbf43a",
   "metadata": {},
   "source": [
    "We then create an array ``FC_LM04_data``, which consists of the predictions of the ensemble member that deviates the least from the mean for each of the six locations. Each value is converted from Kelvin to Celsius as the observational and climatological data is in Celsius.\n",
    "\n",
    "The data is stored using ``%store FC_LM04_data``."
   ]
  },
  {
   "cell_type": "code",
   "execution_count": 9,
   "id": "45530aff",
   "metadata": {},
   "outputs": [
    {
     "name": "stdout",
     "output_type": "stream",
     "text": [
      "Stored 'FC_LM04_data' (ndarray)\n"
     ]
    }
   ],
   "source": [
    "FC_LM04_data = np.zeros([6,60])\n",
    "\n",
    "for i in range(6):\n",
    "    FC_LM04_data[i] = np.stack(FC_LM04[i][:,int(nearest_ensemble[i]),0,0]) - 273.15\n",
    "    \n",
    "%store FC_LM04_data"
   ]
  }
 ],
 "metadata": {
  "kernelspec": {
   "display_name": "Python 3 (ipykernel)",
   "language": "python",
   "name": "python3"
  },
  "language_info": {
   "codemirror_mode": {
    "name": "ipython",
    "version": 3
   },
   "file_extension": ".py",
   "mimetype": "text/x-python",
   "name": "python",
   "nbconvert_exporter": "python",
   "pygments_lexer": "ipython3",
   "version": "3.9.13"
  }
 },
 "nbformat": 4,
 "nbformat_minor": 5
}
