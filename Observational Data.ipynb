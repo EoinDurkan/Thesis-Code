{
 "cells": [
  {
   "cell_type": "code",
   "execution_count": 1,
   "id": "9ecf9b31",
   "metadata": {},
   "outputs": [],
   "source": [
    "import numpy as np\n",
    "import pandas as pd\n",
    "import matplotlib.pyplot as plt"
   ]
  },
  {
   "cell_type": "markdown",
   "id": "e002545f",
   "metadata": {},
   "source": [
    "Read in historical observations of max temp and min temp for Dublin Airport, Cork Airport, Belmullet, Valentia Observatory, Malin Head and Mullingar."
   ]
  },
  {
   "cell_type": "code",
   "execution_count": 2,
   "id": "a51bb8fa",
   "metadata": {},
   "outputs": [],
   "source": [
    "file_paths = ['../Data/MetEireann/dly532.csv', '../Data/MetEireann/dly3904.csv', '../Data/MetEireann/dly2375.csv',\n",
    "              '../Data/MetEireann/dly2275.csv', '../Data/MetEireann/dly1575.csv', '../Data/MetEireann/dly875.csv']\n",
    "\n",
    "col_names = [\"Date\", \"Mxt2m\", \"Mnt2m\"]\n",
    "\n",
    "data = [pd.read_csv(fp, skiprows=26, usecols=[0,2,4], names=col_names, parse_dates=True, index_col=0, na_values=' ')\n",
    "       for fp in file_paths]"
   ]
  },
  {
   "cell_type": "markdown",
   "id": "3b1c0449",
   "metadata": {},
   "source": [
    "Extract the period 2017-2022 as we are studying the period 2017-2021. We include the year 2022 as forecasts for a lead time of at least two months will be forecasting observations in the first few months of 2022."
   ]
  },
  {
   "cell_type": "code",
   "execution_count": 3,
   "id": "e34d168a",
   "metadata": {},
   "outputs": [],
   "source": [
    "OBS_data = {'DUB': data[0]['2017':'2022'], 'CORK': data[1]['2017':'2022'], 'BEL': data[2]['2017':'2022'],\n",
    "            'VAL': data[3]['2017':'2022'], 'MAL': data[4]['2017':'2022'], 'MUL': data[5]['2017':'2022']}"
   ]
  },
  {
   "cell_type": "markdown",
   "id": "e9f3bc75",
   "metadata": {},
   "source": [
    "Create a 6x72 list ``OBS_t2m`` which consists of 72 values. These values are the monthly temperature means for each month ranging from January 2017 - December 2022.\n",
    "\n",
    "This is obtained by obtaining the average maximum temperature and average minimum temperature for each month and averaging those two values.\n",
    "\n",
    "Finally, store the is list using ``%store`` as these values will be needed for calculating different skill scores in other notebooks."
   ]
  },
  {
   "cell_type": "code",
   "execution_count": 4,
   "id": "b92ebf23",
   "metadata": {},
   "outputs": [
    {
     "name": "stdout",
     "output_type": "stream",
     "text": [
      "Stored 'OBS_t2m' (list)\n"
     ]
    }
   ],
   "source": [
    "OBS_t2m = []\n",
    "\n",
    "for key in OBS_data:\n",
    "    Mxt2m_monthly = OBS_data[key].Mxt2m.groupby(pd.Grouper(freq='M')).mean()\n",
    "    Mnt2m_monthly = OBS_data[key].Mnt2m.groupby(pd.Grouper(freq='M')).mean()\n",
    "    OBS_t2m.append((Mxt2m_monthly.values+Mnt2m_monthly.values)/2)\n",
    "\n",
    "%store OBS_t2m"
   ]
  },
  {
   "cell_type": "code",
   "execution_count": null,
   "id": "66987725",
   "metadata": {},
   "outputs": [],
   "source": []
  }
 ],
 "metadata": {
  "kernelspec": {
   "display_name": "Python 3 (ipykernel)",
   "language": "python",
   "name": "python3"
  },
  "language_info": {
   "codemirror_mode": {
    "name": "ipython",
    "version": 3
   },
   "file_extension": ".py",
   "mimetype": "text/x-python",
   "name": "python",
   "nbconvert_exporter": "python",
   "pygments_lexer": "ipython3",
   "version": "3.9.13"
  }
 },
 "nbformat": 4,
 "nbformat_minor": 5
}
